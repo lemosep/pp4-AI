{
  "cells": [
    {
      "cell_type": "code",
      "execution_count": 2,
      "metadata": {
        "colab": {
          "base_uri": "https://localhost:8080/"
        },
        "id": "2bZM-_AsBVca",
        "outputId": "22733a89-43fb-4ece-cc20-f21516a6c881"
      },
      "outputs": [
        {
          "name": "stdout",
          "output_type": "stream",
          "text": [
            "Defaulting to user installation because normal site-packages is not writeable\n",
            "Requirement already satisfied: apyori in /Users/edu/Library/Python/3.9/lib/python/site-packages (1.1.2)\n",
            "\n",
            "\u001b[1m[\u001b[0m\u001b[34;49mnotice\u001b[0m\u001b[1;39;49m]\u001b[0m\u001b[39;49m A new release of pip is available: \u001b[0m\u001b[31;49m23.2.1\u001b[0m\u001b[39;49m -> \u001b[0m\u001b[32;49m23.3\u001b[0m\n",
            "\u001b[1m[\u001b[0m\u001b[34;49mnotice\u001b[0m\u001b[1;39;49m]\u001b[0m\u001b[39;49m To update, run: \u001b[0m\u001b[32;49m/Library/Developer/CommandLineTools/usr/bin/python3 -m pip install --upgrade pip\u001b[0m\n"
          ]
        }
      ],
      "source": [
        "!pip install apyori"
      ]
    },
    {
      "cell_type": "code",
      "execution_count": 3,
      "metadata": {
        "id": "m3d_ivF4Bcn5"
      },
      "outputs": [],
      "source": [
        "import pandas as pd\n",
        "from apyori import apriori"
      ]
    },
    {
      "cell_type": "code",
      "execution_count": 31,
      "metadata": {
        "colab": {
          "base_uri": "https://localhost:8080/",
          "height": 449
        },
        "id": "fGx34zCzBkw1",
        "outputId": "d719f509-7f66-424f-b88d-d1dddfc37b41"
      },
      "outputs": [
        {
          "data": {
            "text/html": [
              "<div>\n",
              "<style scoped>\n",
              "    .dataframe tbody tr th:only-of-type {\n",
              "        vertical-align: middle;\n",
              "    }\n",
              "\n",
              "    .dataframe tbody tr th {\n",
              "        vertical-align: top;\n",
              "    }\n",
              "\n",
              "    .dataframe thead th {\n",
              "        text-align: right;\n",
              "    }\n",
              "</style>\n",
              "<table border=\"1\" class=\"dataframe\">\n",
              "  <thead>\n",
              "    <tr style=\"text-align: right;\">\n",
              "      <th></th>\n",
              "      <th>Leite</th>\n",
              "      <th>CafÃ©</th>\n",
              "      <th>Cerveja</th>\n",
              "      <th>PÃ£o</th>\n",
              "      <th>Manteiga</th>\n",
              "      <th>Arroz</th>\n",
              "      <th>FeijÃ£o</th>\n",
              "    </tr>\n",
              "  </thead>\n",
              "  <tbody>\n",
              "    <tr>\n",
              "      <th>0</th>\n",
              "      <td>NÃ£o</td>\n",
              "      <td>Sim</td>\n",
              "      <td>NÃ£o</td>\n",
              "      <td>Sim</td>\n",
              "      <td>Sim</td>\n",
              "      <td>NÃ£o</td>\n",
              "      <td>NÃ£o</td>\n",
              "    </tr>\n",
              "    <tr>\n",
              "      <th>1</th>\n",
              "      <td>Sim</td>\n",
              "      <td>NÃ£o</td>\n",
              "      <td>Sim</td>\n",
              "      <td>Sim</td>\n",
              "      <td>Sim</td>\n",
              "      <td>NÃ£o</td>\n",
              "      <td>NÃ£o</td>\n",
              "    </tr>\n",
              "    <tr>\n",
              "      <th>2</th>\n",
              "      <td>NÃ£o</td>\n",
              "      <td>Sim</td>\n",
              "      <td>NÃ£o</td>\n",
              "      <td>Sim</td>\n",
              "      <td>Sim</td>\n",
              "      <td>NÃ£o</td>\n",
              "      <td>NÃ£o</td>\n",
              "    </tr>\n",
              "    <tr>\n",
              "      <th>3</th>\n",
              "      <td>Sim</td>\n",
              "      <td>Sim</td>\n",
              "      <td>NÃ£o</td>\n",
              "      <td>Sim</td>\n",
              "      <td>Sim</td>\n",
              "      <td>NÃ£o</td>\n",
              "      <td>NÃ£o</td>\n",
              "    </tr>\n",
              "    <tr>\n",
              "      <th>4</th>\n",
              "      <td>NÃ£o</td>\n",
              "      <td>NÃ£o</td>\n",
              "      <td>Sim</td>\n",
              "      <td>NÃ£o</td>\n",
              "      <td>NÃ£o</td>\n",
              "      <td>NÃ£o</td>\n",
              "      <td>NÃ£o</td>\n",
              "    </tr>\n",
              "    <tr>\n",
              "      <th>5</th>\n",
              "      <td>NÃ£o</td>\n",
              "      <td>NÃ£o</td>\n",
              "      <td>NÃ£o</td>\n",
              "      <td>NÃ£o</td>\n",
              "      <td>Sim</td>\n",
              "      <td>NÃ£o</td>\n",
              "      <td>NÃ£o</td>\n",
              "    </tr>\n",
              "    <tr>\n",
              "      <th>6</th>\n",
              "      <td>NÃ£o</td>\n",
              "      <td>NÃ£o</td>\n",
              "      <td>NÃ£o</td>\n",
              "      <td>Sim</td>\n",
              "      <td>NÃ£o</td>\n",
              "      <td>NÃ£o</td>\n",
              "      <td>NÃ£o</td>\n",
              "    </tr>\n",
              "    <tr>\n",
              "      <th>7</th>\n",
              "      <td>NÃ£o</td>\n",
              "      <td>NÃ£o</td>\n",
              "      <td>NÃ£o</td>\n",
              "      <td>NÃ£o</td>\n",
              "      <td>NÃ£o</td>\n",
              "      <td>NÃ£o</td>\n",
              "      <td>Sim</td>\n",
              "    </tr>\n",
              "    <tr>\n",
              "      <th>8</th>\n",
              "      <td>NÃ£o</td>\n",
              "      <td>NÃ£o</td>\n",
              "      <td>NÃ£o</td>\n",
              "      <td>NÃ£o</td>\n",
              "      <td>NÃ£o</td>\n",
              "      <td>Sim</td>\n",
              "      <td>Sim</td>\n",
              "    </tr>\n",
              "    <tr>\n",
              "      <th>9</th>\n",
              "      <td>NÃ£o</td>\n",
              "      <td>NÃ£o</td>\n",
              "      <td>NÃ£o</td>\n",
              "      <td>NÃ£o</td>\n",
              "      <td>NÃ£o</td>\n",
              "      <td>Sim</td>\n",
              "      <td>NÃ£o</td>\n",
              "    </tr>\n",
              "  </tbody>\n",
              "</table>\n",
              "</div>"
            ],
            "text/plain": [
              "  Leite CafÃ© Cerveja  PÃ£o Manteiga Arroz FeijÃ£o\n",
              "0  NÃ£o   Sim    NÃ£o   Sim      Sim  NÃ£o    NÃ£o\n",
              "1   Sim  NÃ£o     Sim   Sim      Sim  NÃ£o    NÃ£o\n",
              "2  NÃ£o   Sim    NÃ£o   Sim      Sim  NÃ£o    NÃ£o\n",
              "3   Sim   Sim    NÃ£o   Sim      Sim  NÃ£o    NÃ£o\n",
              "4  NÃ£o  NÃ£o     Sim  NÃ£o     NÃ£o  NÃ£o    NÃ£o\n",
              "5  NÃ£o  NÃ£o    NÃ£o  NÃ£o      Sim  NÃ£o    NÃ£o\n",
              "6  NÃ£o  NÃ£o    NÃ£o   Sim     NÃ£o  NÃ£o    NÃ£o\n",
              "7  NÃ£o  NÃ£o    NÃ£o  NÃ£o     NÃ£o  NÃ£o     Sim\n",
              "8  NÃ£o  NÃ£o    NÃ£o  NÃ£o     NÃ£o   Sim     Sim\n",
              "9  NÃ£o  NÃ£o    NÃ£o  NÃ£o     NÃ£o   Sim    NÃ£o"
            ]
          },
          "execution_count": 31,
          "metadata": {},
          "output_type": "execute_result"
        }
      ],
      "source": [
        "base = pd.read_csv('./data/input.csv',delimiter=';' ,encoding='cp1252');\n",
        "base"
      ]
    },
    {
      "cell_type": "code",
      "execution_count": 34,
      "metadata": {
        "id": "19-9OGl8N84K"
      },
      "outputs": [
        {
          "data": {
            "text/html": [
              "<div>\n",
              "<style scoped>\n",
              "    .dataframe tbody tr th:only-of-type {\n",
              "        vertical-align: middle;\n",
              "    }\n",
              "\n",
              "    .dataframe tbody tr th {\n",
              "        vertical-align: top;\n",
              "    }\n",
              "\n",
              "    .dataframe thead th {\n",
              "        text-align: right;\n",
              "    }\n",
              "</style>\n",
              "<table border=\"1\" class=\"dataframe\">\n",
              "  <thead>\n",
              "    <tr style=\"text-align: right;\">\n",
              "      <th></th>\n",
              "      <th>Leite</th>\n",
              "      <th>CafÃ©</th>\n",
              "      <th>Cerveja</th>\n",
              "      <th>PÃ£o</th>\n",
              "      <th>Manteiga</th>\n",
              "      <th>Arroz</th>\n",
              "      <th>FeijÃ£o</th>\n",
              "    </tr>\n",
              "  </thead>\n",
              "  <tbody>\n",
              "    <tr>\n",
              "      <th>0</th>\n",
              "      <td>NaN</td>\n",
              "      <td>CafÃ©</td>\n",
              "      <td>NaN</td>\n",
              "      <td>PÃ£o</td>\n",
              "      <td>Manteiga</td>\n",
              "      <td>NaN</td>\n",
              "      <td>NaN</td>\n",
              "    </tr>\n",
              "    <tr>\n",
              "      <th>1</th>\n",
              "      <td>Leite</td>\n",
              "      <td>NaN</td>\n",
              "      <td>Cerveja</td>\n",
              "      <td>PÃ£o</td>\n",
              "      <td>Manteiga</td>\n",
              "      <td>NaN</td>\n",
              "      <td>NaN</td>\n",
              "    </tr>\n",
              "    <tr>\n",
              "      <th>2</th>\n",
              "      <td>NaN</td>\n",
              "      <td>CafÃ©</td>\n",
              "      <td>NaN</td>\n",
              "      <td>PÃ£o</td>\n",
              "      <td>Manteiga</td>\n",
              "      <td>NaN</td>\n",
              "      <td>NaN</td>\n",
              "    </tr>\n",
              "    <tr>\n",
              "      <th>3</th>\n",
              "      <td>Leite</td>\n",
              "      <td>CafÃ©</td>\n",
              "      <td>NaN</td>\n",
              "      <td>PÃ£o</td>\n",
              "      <td>Manteiga</td>\n",
              "      <td>NaN</td>\n",
              "      <td>NaN</td>\n",
              "    </tr>\n",
              "    <tr>\n",
              "      <th>4</th>\n",
              "      <td>NaN</td>\n",
              "      <td>NaN</td>\n",
              "      <td>Cerveja</td>\n",
              "      <td>NaN</td>\n",
              "      <td>NaN</td>\n",
              "      <td>NaN</td>\n",
              "      <td>NaN</td>\n",
              "    </tr>\n",
              "    <tr>\n",
              "      <th>5</th>\n",
              "      <td>NaN</td>\n",
              "      <td>NaN</td>\n",
              "      <td>NaN</td>\n",
              "      <td>NaN</td>\n",
              "      <td>Manteiga</td>\n",
              "      <td>NaN</td>\n",
              "      <td>NaN</td>\n",
              "    </tr>\n",
              "    <tr>\n",
              "      <th>6</th>\n",
              "      <td>NaN</td>\n",
              "      <td>NaN</td>\n",
              "      <td>NaN</td>\n",
              "      <td>PÃ£o</td>\n",
              "      <td>NaN</td>\n",
              "      <td>NaN</td>\n",
              "      <td>NaN</td>\n",
              "    </tr>\n",
              "    <tr>\n",
              "      <th>7</th>\n",
              "      <td>NaN</td>\n",
              "      <td>NaN</td>\n",
              "      <td>NaN</td>\n",
              "      <td>NaN</td>\n",
              "      <td>NaN</td>\n",
              "      <td>NaN</td>\n",
              "      <td>FeijÃ£o</td>\n",
              "    </tr>\n",
              "    <tr>\n",
              "      <th>8</th>\n",
              "      <td>NaN</td>\n",
              "      <td>NaN</td>\n",
              "      <td>NaN</td>\n",
              "      <td>NaN</td>\n",
              "      <td>NaN</td>\n",
              "      <td>Arroz</td>\n",
              "      <td>FeijÃ£o</td>\n",
              "    </tr>\n",
              "    <tr>\n",
              "      <th>9</th>\n",
              "      <td>NaN</td>\n",
              "      <td>NaN</td>\n",
              "      <td>NaN</td>\n",
              "      <td>NaN</td>\n",
              "      <td>NaN</td>\n",
              "      <td>Arroz</td>\n",
              "      <td>NaN</td>\n",
              "    </tr>\n",
              "  </tbody>\n",
              "</table>\n",
              "</div>"
            ],
            "text/plain": [
              "   Leite  CafÃ©  Cerveja  PÃ£o  Manteiga  Arroz  FeijÃ£o\n",
              "0    NaN  CafÃ©      NaN  PÃ£o  Manteiga    NaN      NaN\n",
              "1  Leite    NaN  Cerveja  PÃ£o  Manteiga    NaN      NaN\n",
              "2    NaN  CafÃ©      NaN  PÃ£o  Manteiga    NaN      NaN\n",
              "3  Leite  CafÃ©      NaN  PÃ£o  Manteiga    NaN      NaN\n",
              "4    NaN    NaN  Cerveja   NaN       NaN    NaN      NaN\n",
              "5    NaN    NaN      NaN   NaN  Manteiga    NaN      NaN\n",
              "6    NaN    NaN      NaN  PÃ£o       NaN    NaN      NaN\n",
              "7    NaN    NaN      NaN   NaN       NaN    NaN  FeijÃ£o\n",
              "8    NaN    NaN      NaN   NaN       NaN  Arroz  FeijÃ£o\n",
              "9    NaN    NaN      NaN   NaN       NaN  Arroz      NaN"
            ]
          },
          "execution_count": 34,
          "metadata": {},
          "output_type": "execute_result"
        }
      ],
      "source": [
        "base = base.where(base == 'Sim')\n",
        "for coluna in base.columns:\n",
        "    base[coluna] = base[coluna].apply(lambda x: coluna if x == 'Sim' else x)\n",
        "\n",
        "base"
      ]
    },
    {
      "cell_type": "code",
      "execution_count": 35,
      "metadata": {
        "id": "EzgU0z9lPb7e"
      },
      "outputs": [
        {
          "data": {
            "text/plain": [
              "[['Não CafÃ©', 'Não PÃ£o', 'Não Manteiga'],\n",
              " ['Não Leite', 'Não Cerveja', 'Não PÃ£o', 'Não Manteiga'],\n",
              " ['Não CafÃ©', 'Não PÃ£o', 'Não Manteiga'],\n",
              " ['Não Leite', 'Não CafÃ©', 'Não PÃ£o', 'Não Manteiga'],\n",
              " ['Não Cerveja'],\n",
              " ['Não Manteiga'],\n",
              " ['Não PÃ£o'],\n",
              " ['Não FeijÃ£o'],\n",
              " ['Não Arroz', 'Não FeijÃ£o'],\n",
              " ['Não Arroz']]"
            ]
          },
          "execution_count": 35,
          "metadata": {},
          "output_type": "execute_result"
        }
      ],
      "source": [
        "transacoes = []\n",
        "\n",
        "for i in range(base.shape[0]):\n",
        "    transacao = []\n",
        "    for coluna in base.columns:\n",
        "        valor = base.at[i, coluna]\n",
        "        if pd.notna(valor):\n",
        "            if valor == 'Sim':\n",
        "                transacao.append(coluna)\n",
        "            else:\n",
        "                transacao.append(\"Não \" + coluna)\n",
        "    transacoes.append(transacao)\n",
        "\n",
        "transacoes"
      ]
    },
    {
      "cell_type": "code",
      "execution_count": 36,
      "metadata": {
        "id": "oIBsczbGCxWf"
      },
      "outputs": [
        {
          "name": "stdout",
          "output_type": "stream",
          "text": [
            "RelationRecord(items=frozenset({'Não Manteiga', 'Não CafÃ©'}), support=0.3, ordered_statistics=[OrderedStatistic(items_base=frozenset({'Não CafÃ©'}), items_add=frozenset({'Não Manteiga'}), confidence=1.0, lift=2.0)])\n",
            "RelationRecord(items=frozenset({'Não PÃ£o', 'Não CafÃ©'}), support=0.3, ordered_statistics=[OrderedStatistic(items_base=frozenset({'Não CafÃ©'}), items_add=frozenset({'Não PÃ£o'}), confidence=1.0, lift=2.0)])\n",
            "RelationRecord(items=frozenset({'Não PÃ£o', 'Não Manteiga'}), support=0.4, ordered_statistics=[OrderedStatistic(items_base=frozenset({'Não Manteiga'}), items_add=frozenset({'Não PÃ£o'}), confidence=0.8, lift=1.6), OrderedStatistic(items_base=frozenset({'Não PÃ£o'}), items_add=frozenset({'Não Manteiga'}), confidence=0.8, lift=1.6)])\n",
            "RelationRecord(items=frozenset({'Não PÃ£o', 'Não Manteiga', 'Não CafÃ©'}), support=0.3, ordered_statistics=[OrderedStatistic(items_base=frozenset({'Não CafÃ©'}), items_add=frozenset({'Não PÃ£o', 'Não Manteiga'}), confidence=1.0, lift=2.5), OrderedStatistic(items_base=frozenset({'Não Manteiga', 'Não CafÃ©'}), items_add=frozenset({'Não PÃ£o'}), confidence=1.0, lift=2.0), OrderedStatistic(items_base=frozenset({'Não PÃ£o', 'Não CafÃ©'}), items_add=frozenset({'Não Manteiga'}), confidence=1.0, lift=2.0), OrderedStatistic(items_base=frozenset({'Não PÃ£o', 'Não Manteiga'}), items_add=frozenset({'Não CafÃ©'}), confidence=0.7499999999999999, lift=2.4999999999999996)])\n"
          ]
        }
      ],
      "source": [
        "regras = apriori(transacoes, min_support = 0.3, min_confidence = 0.7)\n",
        "saida = list(regras)\n",
        "for regra in saida:\n",
        "  print(regra)"
      ]
    },
    {
      "cell_type": "code",
      "execution_count": 37,
      "metadata": {
        "id": "ZF8i0EdWCMjY"
      },
      "outputs": [],
      "source": [
        "Antecedente = []\n",
        "Consequente = []\n",
        "suporte = []\n",
        "confianca = []\n",
        "lift = []\n",
        "\n",
        "for resultado in saida:\n",
        "  s = resultado[1]\n",
        "  result_rules = resultado[2]\n",
        "  for result_rule in result_rules:\n",
        "    a = list(result_rule[0])\n",
        "    b = list(result_rule[1])\n",
        "    c = result_rule[2]\n",
        "    l = result_rule[3]\n",
        "    if 'nan' in a or 'nan' in b: continue\n",
        "    if len(a) == 0 or len(b) == 0: continue\n",
        "    Antecedente.append(a)\n",
        "    Consequente.append(b)\n",
        "    suporte.append(s)\n",
        "    confianca.append(c)\n",
        "    lift.append(l)\n",
        "    RegrasFinais = pd.DataFrame({'Antecedente': Antecedente, 'Consequente': Consequente, 'suporte': suporte, 'confianca': confianca, 'lift': lift})"
      ]
    },
    {
      "cell_type": "code",
      "execution_count": 38,
      "metadata": {
        "colab": {
          "base_uri": "https://localhost:8080/"
        },
        "id": "XH2CNc6VC3e3",
        "outputId": "1f2140b6-70de-44e5-f984-a5d3618aa65b"
      },
      "outputs": [
        {
          "data": {
            "text/html": [
              "<div>\n",
              "<style scoped>\n",
              "    .dataframe tbody tr th:only-of-type {\n",
              "        vertical-align: middle;\n",
              "    }\n",
              "\n",
              "    .dataframe tbody tr th {\n",
              "        vertical-align: top;\n",
              "    }\n",
              "\n",
              "    .dataframe thead th {\n",
              "        text-align: right;\n",
              "    }\n",
              "</style>\n",
              "<table border=\"1\" class=\"dataframe\">\n",
              "  <thead>\n",
              "    <tr style=\"text-align: right;\">\n",
              "      <th></th>\n",
              "      <th>Antecedente</th>\n",
              "      <th>Consequente</th>\n",
              "      <th>suporte</th>\n",
              "      <th>confianca</th>\n",
              "      <th>lift</th>\n",
              "    </tr>\n",
              "  </thead>\n",
              "  <tbody>\n",
              "    <tr>\n",
              "      <th>4</th>\n",
              "      <td>[Não CafÃ©]</td>\n",
              "      <td>[Não PÃ£o, Não Manteiga]</td>\n",
              "      <td>0.3</td>\n",
              "      <td>1.00</td>\n",
              "      <td>2.5</td>\n",
              "    </tr>\n",
              "    <tr>\n",
              "      <th>7</th>\n",
              "      <td>[Não PÃ£o, Não Manteiga]</td>\n",
              "      <td>[Não CafÃ©]</td>\n",
              "      <td>0.3</td>\n",
              "      <td>0.75</td>\n",
              "      <td>2.5</td>\n",
              "    </tr>\n",
              "    <tr>\n",
              "      <th>0</th>\n",
              "      <td>[Não CafÃ©]</td>\n",
              "      <td>[Não Manteiga]</td>\n",
              "      <td>0.3</td>\n",
              "      <td>1.00</td>\n",
              "      <td>2.0</td>\n",
              "    </tr>\n",
              "    <tr>\n",
              "      <th>1</th>\n",
              "      <td>[Não CafÃ©]</td>\n",
              "      <td>[Não PÃ£o]</td>\n",
              "      <td>0.3</td>\n",
              "      <td>1.00</td>\n",
              "      <td>2.0</td>\n",
              "    </tr>\n",
              "    <tr>\n",
              "      <th>5</th>\n",
              "      <td>[Não Manteiga, Não CafÃ©]</td>\n",
              "      <td>[Não PÃ£o]</td>\n",
              "      <td>0.3</td>\n",
              "      <td>1.00</td>\n",
              "      <td>2.0</td>\n",
              "    </tr>\n",
              "    <tr>\n",
              "      <th>6</th>\n",
              "      <td>[Não PÃ£o, Não CafÃ©]</td>\n",
              "      <td>[Não Manteiga]</td>\n",
              "      <td>0.3</td>\n",
              "      <td>1.00</td>\n",
              "      <td>2.0</td>\n",
              "    </tr>\n",
              "    <tr>\n",
              "      <th>2</th>\n",
              "      <td>[Não Manteiga]</td>\n",
              "      <td>[Não PÃ£o]</td>\n",
              "      <td>0.4</td>\n",
              "      <td>0.80</td>\n",
              "      <td>1.6</td>\n",
              "    </tr>\n",
              "    <tr>\n",
              "      <th>3</th>\n",
              "      <td>[Não PÃ£o]</td>\n",
              "      <td>[Não Manteiga]</td>\n",
              "      <td>0.4</td>\n",
              "      <td>0.80</td>\n",
              "      <td>1.6</td>\n",
              "    </tr>\n",
              "  </tbody>\n",
              "</table>\n",
              "</div>"
            ],
            "text/plain": [
              "                 Antecedente               Consequente  suporte  confianca  \\\n",
              "4                [Não CafÃ©]  [Não PÃ£o, Não Manteiga]      0.3       1.00   \n",
              "7   [Não PÃ£o, Não Manteiga]               [Não CafÃ©]      0.3       0.75   \n",
              "0                [Não CafÃ©]            [Não Manteiga]      0.3       1.00   \n",
              "1                [Não CafÃ©]                [Não PÃ£o]      0.3       1.00   \n",
              "5  [Não Manteiga, Não CafÃ©]                [Não PÃ£o]      0.3       1.00   \n",
              "6      [Não PÃ£o, Não CafÃ©]            [Não Manteiga]      0.3       1.00   \n",
              "2             [Não Manteiga]                [Não PÃ£o]      0.4       0.80   \n",
              "3                 [Não PÃ£o]            [Não Manteiga]      0.4       0.80   \n",
              "\n",
              "   lift  \n",
              "4   2.5  \n",
              "7   2.5  \n",
              "0   2.0  \n",
              "1   2.0  \n",
              "5   2.0  \n",
              "6   2.0  \n",
              "2   1.6  \n",
              "3   1.6  "
            ]
          },
          "execution_count": 38,
          "metadata": {},
          "output_type": "execute_result"
        }
      ],
      "source": [
        "RegrasFinais.sort_values(by='lift', ascending =False)"
      ]
    },
    {
      "cell_type": "code",
      "execution_count": 23,
      "metadata": {
        "colab": {
          "base_uri": "https://localhost:8080/"
        },
        "id": "jF4Ec_ryDNfw",
        "outputId": "8edf4cb8-90f1-448a-fc4e-2a213ae0434d"
      },
      "outputs": [
        {
          "data": {
            "text/plain": [
              "list"
            ]
          },
          "execution_count": 23,
          "metadata": {},
          "output_type": "execute_result"
        }
      ],
      "source": [
        "type(transacoes)"
      ]
    },
    {
      "cell_type": "markdown",
      "metadata": {
        "id": "ggzA0uJg_3Ns"
      },
      "source": [
        "**Vamos chamar executar o algoritmo apriori e armazenar as regras obtidas**"
      ]
    },
    {
      "cell_type": "code",
      "execution_count": 24,
      "metadata": {
        "colab": {
          "base_uri": "https://localhost:8080/"
        },
        "id": "DuX5YuabzqfQ",
        "outputId": "759da255-e827-43c6-828c-20255075316b"
      },
      "outputs": [
        {
          "name": "stdout",
          "output_type": "stream",
          "text": [
            "3\n",
            "[RelationRecord(items=frozenset({'Não'}), support=0.9090909090909091, ordered_statistics=[OrderedStatistic(items_base=frozenset(), items_add=frozenset({'Não'}), confidence=0.9090909090909091, lift=1.0)]), RelationRecord(items=frozenset({'Sim'}), support=0.9090909090909091, ordered_statistics=[OrderedStatistic(items_base=frozenset(), items_add=frozenset({'Sim'}), confidence=0.9090909090909091, lift=1.0)]), RelationRecord(items=frozenset({'Sim', 'Não'}), support=0.9090909090909091, ordered_statistics=[OrderedStatistic(items_base=frozenset(), items_add=frozenset({'Sim', 'Não'}), confidence=0.9090909090909091, lift=1.0), OrderedStatistic(items_base=frozenset({'Não'}), items_add=frozenset({'Sim'}), confidence=1.0, lift=1.1), OrderedStatistic(items_base=frozenset({'Sim'}), items_add=frozenset({'Não'}), confidence=1.0, lift=1.1)])]\n"
          ]
        }
      ],
      "source": [
        "regras = apriori(transacoes, min_support = 0.6, min_confidence = 0.7)\n",
        "saida = list(regras) \n",
        "print(len(saida))\n",
        "print(saida)"
      ]
    },
    {
      "cell_type": "code",
      "execution_count": 25,
      "metadata": {
        "colab": {
          "base_uri": "https://localhost:8080/"
        },
        "id": "l4vMQUJfHu0e",
        "outputId": "9506e5dd-0644-4baa-9bd9-946a815b2d62"
      },
      "outputs": [
        {
          "name": "stdout",
          "output_type": "stream",
          "text": [
            "RelationRecord(items=frozenset({'Não'}), support=0.9090909090909091, ordered_statistics=[OrderedStatistic(items_base=frozenset(), items_add=frozenset({'Não'}), confidence=0.9090909090909091, lift=1.0)])\n"
          ]
        }
      ],
      "source": [
        "print(saida[0])"
      ]
    },
    {
      "cell_type": "code",
      "execution_count": 26,
      "metadata": {
        "colab": {
          "base_uri": "https://localhost:8080/"
        },
        "id": "M0hNno4uPcs9",
        "outputId": "f8ae8a58-6414-48c0-bade-7a03b4f3f97c"
      },
      "outputs": [
        {
          "name": "stdout",
          "output_type": "stream",
          "text": [
            "RelationRecord(items=frozenset({'Sim'}), support=0.9090909090909091, ordered_statistics=[OrderedStatistic(items_base=frozenset(), items_add=frozenset({'Sim'}), confidence=0.9090909090909091, lift=1.0)])\n"
          ]
        }
      ],
      "source": [
        "print(saida[1])"
      ]
    },
    {
      "cell_type": "code",
      "execution_count": 27,
      "metadata": {
        "colab": {
          "base_uri": "https://localhost:8080/"
        },
        "id": "0ZMoSVL_9aXP",
        "outputId": "43a09394-2792-4963-ed70-e0f1d3af4a17"
      },
      "outputs": [
        {
          "name": "stdout",
          "output_type": "stream",
          "text": [
            "RelationRecord(items=frozenset({'Sim', 'Não'}), support=0.9090909090909091, ordered_statistics=[OrderedStatistic(items_base=frozenset(), items_add=frozenset({'Sim', 'Não'}), confidence=0.9090909090909091, lift=1.0), OrderedStatistic(items_base=frozenset({'Não'}), items_add=frozenset({'Sim'}), confidence=1.0, lift=1.1), OrderedStatistic(items_base=frozenset({'Sim'}), items_add=frozenset({'Não'}), confidence=1.0, lift=1.1)])\n"
          ]
        }
      ],
      "source": [
        "print(saida[2])"
      ]
    },
    {
      "cell_type": "markdown",
      "metadata": {
        "id": "soknidg94a2y"
      },
      "source": [
        "**Para facilitar a visualização, veja como transformar isso em um dataframe** \n",
        "\n",
        "Extraído de:\n",
        "\n",
        "https://www.section.io/engineering-education/apriori-algorithm-in-python/\n",
        "\n",
        "https://splunktool.com/understanding-apyoris-output"
      ]
    },
    {
      "cell_type": "code",
      "execution_count": 28,
      "metadata": {
        "id": "UWDno2uo4aL0"
      },
      "outputs": [],
      "source": [
        "Antecedente = []\n",
        "Consequente = []\n",
        "suporte = []\n",
        "confianca = []\n",
        "lift = []\n",
        "\n",
        "for resultado in saida:\n",
        "  s = resultado[1]\n",
        "  result_rules = resultado[2]\n",
        "  for result_rule in result_rules:\n",
        "    a = list(result_rule[0])\n",
        "    b = list(result_rule[1])\n",
        "    c = result_rule[2]\n",
        "    l = result_rule[3]\n",
        "    if 'nan' in a or 'nan' in b: continue\n",
        "    if len(a) == 0 or len(b) == 0: continue\n",
        "    Antecedente.append(a)\n",
        "    Consequente.append(b)\n",
        "    suporte.append(s)\n",
        "    confianca.append(c)\n",
        "    lift.append(l)\n",
        "    RegrasFinais = pd.DataFrame({'Antecedente': Antecedente, 'Consequente': Consequente, 'suporte': suporte, 'confianca': confianca, 'lift': lift})"
      ]
    },
    {
      "cell_type": "code",
      "execution_count": 29,
      "metadata": {
        "colab": {
          "base_uri": "https://localhost:8080/",
          "height": 112
        },
        "id": "QW7wcZbe431-",
        "outputId": "9a4ebee0-91b5-4add-e562-d3cab7939970"
      },
      "outputs": [
        {
          "data": {
            "text/html": [
              "<div>\n",
              "<style scoped>\n",
              "    .dataframe tbody tr th:only-of-type {\n",
              "        vertical-align: middle;\n",
              "    }\n",
              "\n",
              "    .dataframe tbody tr th {\n",
              "        vertical-align: top;\n",
              "    }\n",
              "\n",
              "    .dataframe thead th {\n",
              "        text-align: right;\n",
              "    }\n",
              "</style>\n",
              "<table border=\"1\" class=\"dataframe\">\n",
              "  <thead>\n",
              "    <tr style=\"text-align: right;\">\n",
              "      <th></th>\n",
              "      <th>Antecedente</th>\n",
              "      <th>Consequente</th>\n",
              "      <th>suporte</th>\n",
              "      <th>confianca</th>\n",
              "      <th>lift</th>\n",
              "    </tr>\n",
              "  </thead>\n",
              "  <tbody>\n",
              "    <tr>\n",
              "      <th>0</th>\n",
              "      <td>[Não]</td>\n",
              "      <td>[Sim]</td>\n",
              "      <td>0.909091</td>\n",
              "      <td>1.0</td>\n",
              "      <td>1.1</td>\n",
              "    </tr>\n",
              "    <tr>\n",
              "      <th>1</th>\n",
              "      <td>[Sim]</td>\n",
              "      <td>[Não]</td>\n",
              "      <td>0.909091</td>\n",
              "      <td>1.0</td>\n",
              "      <td>1.1</td>\n",
              "    </tr>\n",
              "  </tbody>\n",
              "</table>\n",
              "</div>"
            ],
            "text/plain": [
              "  Antecedente Consequente   suporte  confianca  lift\n",
              "0       [Não]       [Sim]  0.909091        1.0   1.1\n",
              "1       [Sim]       [Não]  0.909091        1.0   1.1"
            ]
          },
          "execution_count": 29,
          "metadata": {},
          "output_type": "execute_result"
        }
      ],
      "source": [
        "RegrasFinais"
      ]
    },
    {
      "cell_type": "markdown",
      "metadata": {
        "id": "DJUXykHjhbJ0"
      },
      "source": [
        "**Podemos ordenar estas regras por uma métrica desejada**"
      ]
    },
    {
      "cell_type": "code",
      "execution_count": 52,
      "metadata": {
        "colab": {
          "base_uri": "https://localhost:8080/",
          "height": 112
        },
        "id": "A7X_YwVHhaxf",
        "outputId": "27c00b86-4295-4b16-b49f-f3bbf3d34c9e"
      },
      "outputs": [
        {
          "data": {
            "text/html": [
              "\n",
              "  <div id=\"df-70cfc7a2-7f5a-4fbf-b9d5-ab22afa329de\">\n",
              "    <div class=\"colab-df-container\">\n",
              "      <div>\n",
              "<style scoped>\n",
              "    .dataframe tbody tr th:only-of-type {\n",
              "        vertical-align: middle;\n",
              "    }\n",
              "\n",
              "    .dataframe tbody tr th {\n",
              "        vertical-align: top;\n",
              "    }\n",
              "\n",
              "    .dataframe thead th {\n",
              "        text-align: right;\n",
              "    }\n",
              "</style>\n",
              "<table border=\"1\" class=\"dataframe\">\n",
              "  <thead>\n",
              "    <tr style=\"text-align: right;\">\n",
              "      <th></th>\n",
              "      <th>Antecedente</th>\n",
              "      <th>Consequente</th>\n",
              "      <th>suporte</th>\n",
              "      <th>confianca</th>\n",
              "      <th>lift</th>\n",
              "    </tr>\n",
              "  </thead>\n",
              "  <tbody>\n",
              "    <tr>\n",
              "      <th>0</th>\n",
              "      <td>[Banana]</td>\n",
              "      <td>[Shampoo]</td>\n",
              "      <td>0.636364</td>\n",
              "      <td>1.000000</td>\n",
              "      <td>1.222222</td>\n",
              "    </tr>\n",
              "    <tr>\n",
              "      <th>1</th>\n",
              "      <td>[Shampoo]</td>\n",
              "      <td>[Banana]</td>\n",
              "      <td>0.636364</td>\n",
              "      <td>0.777778</td>\n",
              "      <td>1.222222</td>\n",
              "    </tr>\n",
              "  </tbody>\n",
              "</table>\n",
              "</div>\n",
              "      <button class=\"colab-df-convert\" onclick=\"convertToInteractive('df-70cfc7a2-7f5a-4fbf-b9d5-ab22afa329de')\"\n",
              "              title=\"Convert this dataframe to an interactive table.\"\n",
              "              style=\"display:none;\">\n",
              "        \n",
              "  <svg xmlns=\"http://www.w3.org/2000/svg\" height=\"24px\"viewBox=\"0 0 24 24\"\n",
              "       width=\"24px\">\n",
              "    <path d=\"M0 0h24v24H0V0z\" fill=\"none\"/>\n",
              "    <path d=\"M18.56 5.44l.94 2.06.94-2.06 2.06-.94-2.06-.94-.94-2.06-.94 2.06-2.06.94zm-11 1L8.5 8.5l.94-2.06 2.06-.94-2.06-.94L8.5 2.5l-.94 2.06-2.06.94zm10 10l.94 2.06.94-2.06 2.06-.94-2.06-.94-.94-2.06-.94 2.06-2.06.94z\"/><path d=\"M17.41 7.96l-1.37-1.37c-.4-.4-.92-.59-1.43-.59-.52 0-1.04.2-1.43.59L10.3 9.45l-7.72 7.72c-.78.78-.78 2.05 0 2.83L4 21.41c.39.39.9.59 1.41.59.51 0 1.02-.2 1.41-.59l7.78-7.78 2.81-2.81c.8-.78.8-2.07 0-2.86zM5.41 20L4 18.59l7.72-7.72 1.47 1.35L5.41 20z\"/>\n",
              "  </svg>\n",
              "      </button>\n",
              "      \n",
              "  <style>\n",
              "    .colab-df-container {\n",
              "      display:flex;\n",
              "      flex-wrap:wrap;\n",
              "      gap: 12px;\n",
              "    }\n",
              "\n",
              "    .colab-df-convert {\n",
              "      background-color: #E8F0FE;\n",
              "      border: none;\n",
              "      border-radius: 50%;\n",
              "      cursor: pointer;\n",
              "      display: none;\n",
              "      fill: #1967D2;\n",
              "      height: 32px;\n",
              "      padding: 0 0 0 0;\n",
              "      width: 32px;\n",
              "    }\n",
              "\n",
              "    .colab-df-convert:hover {\n",
              "      background-color: #E2EBFA;\n",
              "      box-shadow: 0px 1px 2px rgba(60, 64, 67, 0.3), 0px 1px 3px 1px rgba(60, 64, 67, 0.15);\n",
              "      fill: #174EA6;\n",
              "    }\n",
              "\n",
              "    [theme=dark] .colab-df-convert {\n",
              "      background-color: #3B4455;\n",
              "      fill: #D2E3FC;\n",
              "    }\n",
              "\n",
              "    [theme=dark] .colab-df-convert:hover {\n",
              "      background-color: #434B5C;\n",
              "      box-shadow: 0px 1px 3px 1px rgba(0, 0, 0, 0.15);\n",
              "      filter: drop-shadow(0px 1px 2px rgba(0, 0, 0, 0.3));\n",
              "      fill: #FFFFFF;\n",
              "    }\n",
              "  </style>\n",
              "\n",
              "      <script>\n",
              "        const buttonEl =\n",
              "          document.querySelector('#df-70cfc7a2-7f5a-4fbf-b9d5-ab22afa329de button.colab-df-convert');\n",
              "        buttonEl.style.display =\n",
              "          google.colab.kernel.accessAllowed ? 'block' : 'none';\n",
              "\n",
              "        async function convertToInteractive(key) {\n",
              "          const element = document.querySelector('#df-70cfc7a2-7f5a-4fbf-b9d5-ab22afa329de');\n",
              "          const dataTable =\n",
              "            await google.colab.kernel.invokeFunction('convertToInteractive',\n",
              "                                                     [key], {});\n",
              "          if (!dataTable) return;\n",
              "\n",
              "          const docLinkHtml = 'Like what you see? Visit the ' +\n",
              "            '<a target=\"_blank\" href=https://colab.research.google.com/notebooks/data_table.ipynb>data table notebook</a>'\n",
              "            + ' to learn more about interactive tables.';\n",
              "          element.innerHTML = '';\n",
              "          dataTable['output_type'] = 'display_data';\n",
              "          await google.colab.output.renderOutput(dataTable, element);\n",
              "          const docLink = document.createElement('div');\n",
              "          docLink.innerHTML = docLinkHtml;\n",
              "          element.appendChild(docLink);\n",
              "        }\n",
              "      </script>\n",
              "    </div>\n",
              "  </div>\n",
              "  "
            ],
            "text/plain": [
              "  Antecedente Consequente   suporte  confianca      lift\n",
              "0    [Banana]   [Shampoo]  0.636364   1.000000  1.222222\n",
              "1   [Shampoo]    [Banana]  0.636364   0.777778  1.222222"
            ]
          },
          "execution_count": 52,
          "metadata": {},
          "output_type": "execute_result"
        }
      ],
      "source": [
        "RegrasFinais.sort_values(by='lift', ascending =False)"
      ]
    }
  ],
  "metadata": {
    "colab": {
      "provenance": []
    },
    "kernelspec": {
      "display_name": "Python 3",
      "name": "python3"
    },
    "language_info": {
      "codemirror_mode": {
        "name": "ipython",
        "version": 3
      },
      "file_extension": ".py",
      "mimetype": "text/x-python",
      "name": "python",
      "nbconvert_exporter": "python",
      "pygments_lexer": "ipython3",
      "version": "3.9.6"
    }
  },
  "nbformat": 4,
  "nbformat_minor": 0
}
